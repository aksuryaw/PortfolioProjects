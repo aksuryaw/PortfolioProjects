{
 "cells": [
  {
   "cell_type": "code",
   "execution_count": null,
   "metadata": {},
   "outputs": [],
   "source": [
    "import pandas as pd\n",
    "import numpy as np"
   ]
  },
  {
   "cell_type": "code",
   "execution_count": null,
   "metadata": {},
   "outputs": [],
   "source": [
    "df = pd.read_csv(\"redfin_data_cleaned.csv\")"
   ]
  },
  {
   "cell_type": "code",
   "execution_count": null,
   "metadata": {},
   "outputs": [],
   "source": [
    "# create df1 that only has records of houses w/ prices above the 5th percentile but less than $1000000\n",
    "df1 = df[(df.PRICE > df.PRICE.quantile(0.05)) & (df.PRICE < 1000000)]\n",
    "\n",
    "# create df2 to select only revelant columns for model building from df1\n",
    "df2 = df1[[\"CITY\",\"MONTH\",\"BEDROOMS\",\"BATHROOMS\",\"SQFT\",\"LOTSIZE\",\"YEARBUILT\",\"PRICE\"]]"
   ]
  },
  {
   "cell_type": "code",
   "execution_count": null,
   "metadata": {},
   "outputs": [],
   "source": [
    "# removing outliers\n",
    "from scipy import stats\n",
    "\n",
    "z_scores = stats.zscore(df2.PRICE)\n",
    "abs_z_scores = np.abs(z_scores)\n",
    "df2[\"z_scores\"] = abs_z_scores\n",
    "\n",
    "df_new = df2[df2[\"z_scores\"]<3]"
   ]
  },
  {
   "cell_type": "code",
   "execution_count": null,
   "metadata": {},
   "outputs": [],
   "source": [
    "# transform categorical column labels to numerical\n",
    "from sklearn.preprocessing import LabelEncoder\n",
    "\n",
    "le = LabelEncoder()\n",
    "\n",
    "df_new.CITY = le.fit_transform(df1.CITY)\n",
    "df_new.MONTH = le.fit_transform(df1.MONTH)"
   ]
  },
  {
   "cell_type": "code",
   "execution_count": null,
   "metadata": {},
   "outputs": [],
   "source": [
    "# create X and y variables \n",
    "X = df_new.iloc[:,0:7].values\n",
    "\n",
    "y = df_new.PRICE"
   ]
  },
  {
   "cell_type": "code",
   "execution_count": null,
   "metadata": {},
   "outputs": [],
   "source": [
    "# solves numeric ordering of nominal categorical features \n",
    "from sklearn.preprocessing import OneHotEncoder\n",
    "from sklearn.compose import ColumnTransformer \n",
    "\n",
    "ct = ColumnTransformer([('one_hot_encoder', OneHotEncoder(categories= \"auto\"),[0,1])],remainder='passthrough')\n",
    "\n",
    "X = ct.fit_transform(X).toarray()"
   ]
  },
  {
   "cell_type": "code",
   "execution_count": null,
   "metadata": {},
   "outputs": [],
   "source": [
    "# data split, train and test set\n",
    "from sklearn.model_selection import train_test_split\n",
    "\n",
    "X_train,X_test,y_train,y_test = train_test_split(X,y,test_size=0.2)"
   ]
  },
  {
   "cell_type": "code",
   "execution_count": null,
   "metadata": {},
   "outputs": [],
   "source": [
    "# linear regression model\n",
    "from sklearn.linear_model import LinearRegression\n",
    "from sklearn.model_selection import cross_val_score\n",
    "\n",
    "lm = LinearRegression()\n",
    "lm.fit(X_train,y_train)\n",
    "\n",
    "np.mean(cross_val_score(lm,X_train,y_train,scoring = \"neg_mean_absolute_error\",cv=10))"
   ]
  },
  {
   "cell_type": "code",
   "execution_count": null,
   "metadata": {},
   "outputs": [],
   "source": [
    "# linear regression model's predictions vs actual values \n",
    "Y_pred = lm.predict(X_test)\n",
    "\n",
    "import seaborn as sns \n",
    "sns.scatterplot(y_test, Y_pred, alpha=0.5)\n",
    "\n",
    "print(lm.score(X_test,y_test))"
   ]
  },
  {
   "cell_type": "code",
   "execution_count": null,
   "metadata": {},
   "outputs": [],
   "source": [
    "# random forest regressor model \n",
    "from sklearn.ensemble import RandomForestRegressor\n",
    "\n",
    "rf = RandomForestRegressor()\n",
    "rf.fit(X_train,y_train)\n",
    "\n",
    "np.mean(cross_val_score(rf,X_train,y_train,scoring=\"neg_mean_absolute_error\",cv=10))"
   ]
  },
  {
   "cell_type": "code",
   "execution_count": null,
   "metadata": {},
   "outputs": [],
   "source": [
    "# random forest regressor model's predictions vs actual values \n",
    "r_pred = rf.predict(X_test)\n",
    "\n",
    "sns.scatterplot(y_test, r_pred, alpha=0.5)\n",
    "\n",
    "print(rf.score(X_test,y_test))"
   ]
  },
  {
   "cell_type": "code",
   "execution_count": null,
   "metadata": {},
   "outputs": [],
   "source": [
    "# gradient boosting regressor model \n",
    "import xgboost as xgb\n",
    "from sklearn.metrics import mean_squared_error \n",
    "\n",
    "xgbr = xgb.XGBRegressor(verbosity = 0)\n",
    "xgbr.fit(X_train,y_train)\n",
    "\n",
    "np.mean(cross_val_score(xgbr,X_train,y_train,scoring=\"neg_mean_absolute_error\",cv=10))"
   ]
  },
  {
   "cell_type": "code",
   "execution_count": null,
   "metadata": {},
   "outputs": [],
   "source": [
    "# gradient boosting regressor model's predictions vs actual values \n",
    "x_pred = xgbr.predict(X_test)\n",
    "\n",
    "sns.scatterplot(y_test, x_pred, alpha=0.5)\n",
    "\n",
    "print(rf.score(X_test,y_test))"
   ]
  },
  {
   "cell_type": "code",
   "execution_count": null,
   "metadata": {},
   "outputs": [],
   "source": [
    "# test ensembles, average error in each model \n",
    "from sklearn.metrics import mean_absolute_error\n",
    "\n",
    "print(\"Linear Regression: \",mean_absolute_error(y_test,Y_pred))\n",
    "print(\"Random Forest Regressor: \",mean_absolute_error(y_test,r_pred))\n",
    "print(\"Gradient Boosting Regressor: \",mean_absolute_error(y_test,x_pred))"
   ]
  }
 ],
 "metadata": {
  "kernelspec": {
   "display_name": "Python 3",
   "language": "python",
   "name": "python3"
  },
  "language_info": {
   "codemirror_mode": {
    "name": "ipython",
    "version": 3
   },
   "file_extension": ".py",
   "mimetype": "text/x-python",
   "name": "python",
   "nbconvert_exporter": "python",
   "pygments_lexer": "ipython3",
   "version": "3.8.3"
  }
 },
 "nbformat": 4,
 "nbformat_minor": 4
}
